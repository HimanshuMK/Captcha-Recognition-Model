{
  "nbformat": 4,
  "nbformat_minor": 0,
  "metadata": {
    "colab": {
      "provenance": [],
      "mount_file_id": "1NietrcdxDHrqtBfTKbxpA-w-nj2VM7-j",
      "authorship_tag": "ABX9TyOZ4zs2CdhEnK2G73IG038j",
      "include_colab_link": true
    },
    "kernelspec": {
      "name": "python3",
      "display_name": "Python 3"
    },
    "language_info": {
      "name": "python"
    }
  },
  "cells": [
    {
      "cell_type": "markdown",
      "metadata": {
        "id": "view-in-github",
        "colab_type": "text"
      },
      "source": [
        "<a href=\"https://colab.research.google.com/github/HimanshuMK/Captcha-Recognition-Model/blob/main/Captcha_model.ipynb\" target=\"_parent\"><img src=\"https://colab.research.google.com/assets/colab-badge.svg\" alt=\"Open In Colab\"/></a>"
      ]
    },
    {
      "cell_type": "markdown",
      "source": [
        "### Importing Libraries"
      ],
      "metadata": {
        "id": "85gC6yPwi63U"
      }
    },
    {
      "cell_type": "code",
      "execution_count": 2,
      "metadata": {
        "id": "vIs97ESeazqx"
      },
      "outputs": [],
      "source": [
        "import numpy as np\n",
        "import os\n",
        "import cv2 #OpenCV(Open Source computer vision lib), containg CV algos\n",
        "import string\n",
        "import matplotlib.pyplot as plt #for graphs"
      ]
    },
    {
      "cell_type": "markdown",
      "source": [
        "### Importing data"
      ],
      "metadata": {
        "id": "E5a6jkyUjruT"
      }
    },
    {
      "cell_type": "code",
      "source": [
        "data_dir = '/content/drive/MyDrive/OCR_model/samples'\n",
        "labels = []\n",
        "images = []"
      ],
      "metadata": {
        "id": "YyfFDP4DvGtT"
      },
      "execution_count": 3,
      "outputs": []
    },
    {
      "cell_type": "markdown",
      "source": [
        "### Extracting Images and labels From data"
      ],
      "metadata": {
        "id": "GKWzPckg3KyO"
      }
    },
    {
      "cell_type": "code",
      "source": [
        "for filename in os.listdir(data_dir):\n",
        "    # read image\n",
        "    img = cv2.imread(os.path.join(data_dir, filename), cv2.IMREAD_GRAYSCALE)\n",
        "    images.append(img)\n",
        "\n",
        "    # extract labels from filename\n",
        "    label = filename.split('.')[0]\n",
        "    labels.append(label)"
      ],
      "metadata": {
        "id": "aTY2PMJDvT90"
      },
      "execution_count": 4,
      "outputs": []
    },
    {
      "cell_type": "code",
      "source": [
        "print(np.array(images).shape)\n",
        "print(np.array(labels).shape)"
      ],
      "metadata": {
        "colab": {
          "base_uri": "https://localhost:8080/"
        },
        "id": "_I4itqA42vns",
        "outputId": "9b89b008-471b-4ca9-9b77-67c6ba9ef220"
      },
      "execution_count": 5,
      "outputs": [
        {
          "output_type": "stream",
          "name": "stdout",
          "text": [
            "(1070, 50, 200)\n",
            "(1070,)\n"
          ]
        }
      ]
    },
    {
      "cell_type": "markdown",
      "source": [
        "#### For Encoding Purpose"
      ],
      "metadata": {
        "id": "DrSo56uI3F-2"
      }
    },
    {
      "cell_type": "code",
      "source": [
        "characters= string.ascii_lowercase + string.digits # All symbols captcha can contain\n",
        "nchar = len(characters) #total number of char possible"
      ],
      "metadata": {
        "id": "Q6ySsQNp1nKO"
      },
      "execution_count": 6,
      "outputs": []
    },
    {
      "cell_type": "markdown",
      "source": [
        "### Encoding Functions"
      ],
      "metadata": {
        "id": "PTjzWipx3amx"
      }
    },
    {
      "cell_type": "code",
      "source": [
        "char_to_num = {}\n",
        "for idx, char in enumerate(characters):\n",
        "    char_to_num[char] = idx\n",
        "\n",
        "# number to character conversion\n",
        "num_to_char = {}\n",
        "for char, idx in char_to_num.items():\n",
        "    num_to_char[idx] = char"
      ],
      "metadata": {
        "id": "de48eq__3E8r"
      },
      "execution_count": 7,
      "outputs": []
    },
    {
      "cell_type": "markdown",
      "source": [
        "Since there are 1070 images. <br>\n",
        "We will define first shapes of X and y <br>\n",
        "\n"
      ],
      "metadata": {
        "id": "eqjT8zy33ock"
      }
    },
    {
      "cell_type": "code",
      "source": [
        "n = len(images)\n",
        "print(n)"
      ],
      "metadata": {
        "colab": {
          "base_uri": "https://localhost:8080/"
        },
        "id": "JYf38hy93feb",
        "outputId": "f46cda56-cd24-4f11-d439-6cca78e04db5"
      },
      "execution_count": 8,
      "outputs": [
        {
          "output_type": "stream",
          "name": "stdout",
          "text": [
            "1070\n"
          ]
        }
      ]
    },
    {
      "cell_type": "code",
      "source": [
        "#defining size of image\n",
        "imgshape=(50,200,1) #50-height, 200-width, 1-no of channels"
      ],
      "metadata": {
        "id": "IpHJ1jfp4yMY"
      },
      "execution_count": 9,
      "outputs": []
    },
    {
      "cell_type": "markdown",
      "source": [
        "### Creating X and y for Model"
      ],
      "metadata": {
        "id": "LXwsgeuFkLgh"
      }
    },
    {
      "cell_type": "code",
      "source": [
        "X = np.zeros((n, 50, 200, 1))  # n * 50 * 200 array with all entries 0\n",
        "y = np.zeros((5, n, nchar))    # 5 * n * 36 (5 letters in captcha) with all entries 0"
      ],
      "metadata": {
        "id": "yBKgwJVa4BqK"
      },
      "execution_count": 10,
      "outputs": []
    },
    {
      "cell_type": "code",
      "source": [
        "for i, (img, label) in enumerate(zip(images, labels)):\n",
        "    if len(label) < 6:  # captcha is not more than 5 letters\n",
        "        img = img / 255.0  # scales the image between 0 and 1\n",
        "        img = np.reshape(img, (50, 200, 1))  # reshapes image to width 200, height 50, channel 1\n",
        "\n",
        "        target = np.zeros((5, nchar))  # creates an array of size 5*36 with all entries 0\n",
        "\n",
        "        for j, k in enumerate(label):\n",
        "            # j iterates from 0 to 4 (5 letters in captcha)\n",
        "            # k denotes the letter in captcha which is to be scanned\n",
        "            index = char_to_num[k]  # index stores the position of letter k of captcha in the char_to_num dictionary\n",
        "            target[j, index] = 1  # replaces 0 with 1 in the target array at the position of the letter in captcha\n",
        "\n",
        "        X[i] = img  # stores all the images\n",
        "        y[:, i] = target  # stores all the info about the letters in captcha of all images"
      ],
      "metadata": {
        "id": "PHtVeDKY4LKI"
      },
      "execution_count": 11,
      "outputs": []
    },
    {
      "cell_type": "code",
      "source": [
        "print(X.shape)\n",
        "print(y.shape)"
      ],
      "metadata": {
        "colab": {
          "base_uri": "https://localhost:8080/"
        },
        "id": "rDcpi8js4X-2",
        "outputId": "b21a8f1e-a4bb-4aaf-e1ad-88495a26466e"
      },
      "execution_count": 12,
      "outputs": [
        {
          "output_type": "stream",
          "name": "stdout",
          "text": [
            "(1070, 50, 200, 1)\n",
            "(5, 1070, 36)\n"
          ]
        }
      ]
    },
    {
      "cell_type": "markdown",
      "source": [
        "Since now our X and y are ready, <br>\n",
        "we will Divide it in training and testing set"
      ],
      "metadata": {
        "id": "Q8ahUNzy5AM5"
      }
    },
    {
      "cell_type": "markdown",
      "source": [
        "Train Test Split"
      ],
      "metadata": {
        "id": "yxvgx-F3kjg8"
      }
    },
    {
      "cell_type": "code",
      "source": [
        "import numpy as np\n",
        "\n",
        "# Set a random seed for reproducibility\n",
        "np.random.seed(42)\n",
        "\n",
        "# Shuffle the indices\n",
        "indices = np.arange(X.shape[0])\n",
        "np.random.shuffle(indices)\n",
        "\n",
        "# Shuffle the data accordingly\n",
        "X_shuffled = X[indices]\n",
        "y_shuffled = y[:, indices]\n",
        "\n",
        "# Split the data into training and test sets\n",
        "train_size = 970\n",
        "X_train, y_train = X_shuffled[:train_size], y_shuffled[:, :train_size]\n",
        "X_test, y_test = X_shuffled[train_size:], y_shuffled[:, train_size:]\n",
        "\n",
        "# Verify the shapes\n",
        "print(X_train.shape)\n",
        "print(y_train.shape)\n",
        "print(X_test.shape)\n",
        "print(y_test.shape)\n",
        "\n",
        "# (970, 50, 200, 1)\n",
        "# (5, 970, 36)\n",
        "# (100, 50, 200, 1)\n",
        "# (5, 100, 36)\n"
      ],
      "metadata": {
        "colab": {
          "base_uri": "https://localhost:8080/"
        },
        "id": "2srjTAnoFEEB",
        "outputId": "d172f095-b15a-47f6-ec20-dec2a254cff9"
      },
      "execution_count": 13,
      "outputs": [
        {
          "output_type": "stream",
          "name": "stdout",
          "text": [
            "(970, 50, 200, 1)\n",
            "(5, 970, 36)\n",
            "(100, 50, 200, 1)\n",
            "(5, 100, 36)\n"
          ]
        }
      ]
    },
    {
      "cell_type": "markdown",
      "source": [
        "# Creating a Model"
      ],
      "metadata": {
        "id": "_1IyKgpqMTF0"
      }
    },
    {
      "cell_type": "code",
      "source": [
        "from keras import layers #for building layers of neural net\n",
        "from keras.models import Model\n",
        "from keras.models import load_model\n",
        "from keras import callbacks #for training logs, saving to disk periodically"
      ],
      "metadata": {
        "id": "o9HwJ-PkFV53"
      },
      "execution_count": 14,
      "outputs": []
    },
    {
      "cell_type": "code",
      "source": [
        "#create model\n",
        "def createmodel():\n",
        "    img = layers.Input(shape=imgshape) # Get image as an input of size 50,200,1\n",
        "    conv1 = layers.Conv2D(16, (3, 3), padding='same', activation='relu')(img) #50*200\n",
        "    mp1 = layers.MaxPooling2D(padding='same')(conv1)  # 25*100\n",
        "    conv2 = layers.Conv2D(32, (3, 3), padding='same', activation='relu')(mp1)\n",
        "    mp2 = layers.MaxPooling2D(padding='same')(conv2)  # 13*50\n",
        "    conv3 = layers.Conv2D(32, (3, 3), padding='same', activation='relu')(mp2)\n",
        "    bn = layers.BatchNormalization()(conv3) #to improve the stability of model\n",
        "    mp3 = layers.MaxPooling2D(padding='same')(bn)  # 7*25\n",
        "\n",
        "    flat = layers.Flatten()(mp3) #convert the layer into 1-D\n",
        "\n",
        "    outs = []\n",
        "    for _ in range(5): #for 5 letters of captcha\n",
        "        dens1 = layers.Dense(64, activation='relu')(flat)\n",
        "        drop = layers.Dropout(0.5)(dens1) #drops 0.5 fraction of nodes\n",
        "        res = layers.Dense(nchar, activation='sigmoid')(drop)\n",
        "\n",
        "        outs.append(res) #result of layers\n",
        "\n",
        "    # Compile model and return it\n",
        "    model = Model(img, outs) #create model\n",
        "    model.compile(loss='categorical_crossentropy', optimizer='adam',metrics=[\"accuracy\"])\n",
        "    return model"
      ],
      "metadata": {
        "id": "kInaPyCSFPZu"
      },
      "execution_count": 15,
      "outputs": []
    },
    {
      "cell_type": "code",
      "source": [
        "#Create model\n",
        "model=createmodel();\n",
        "model.summary();"
      ],
      "metadata": {
        "colab": {
          "base_uri": "https://localhost:8080/"
        },
        "id": "FAeb39ibFZvb",
        "outputId": "e1995a19-9f11-4322-fe86-b3f6e147a3b9"
      },
      "execution_count": 16,
      "outputs": [
        {
          "output_type": "stream",
          "name": "stdout",
          "text": [
            "Model: \"model\"\n",
            "__________________________________________________________________________________________________\n",
            " Layer (type)                Output Shape                 Param #   Connected to                  \n",
            "==================================================================================================\n",
            " input_1 (InputLayer)        [(None, 50, 200, 1)]         0         []                            \n",
            "                                                                                                  \n",
            " conv2d (Conv2D)             (None, 50, 200, 16)          160       ['input_1[0][0]']             \n",
            "                                                                                                  \n",
            " max_pooling2d (MaxPooling2  (None, 25, 100, 16)          0         ['conv2d[0][0]']              \n",
            " D)                                                                                               \n",
            "                                                                                                  \n",
            " conv2d_1 (Conv2D)           (None, 25, 100, 32)          4640      ['max_pooling2d[0][0]']       \n",
            "                                                                                                  \n",
            " max_pooling2d_1 (MaxPoolin  (None, 13, 50, 32)           0         ['conv2d_1[0][0]']            \n",
            " g2D)                                                                                             \n",
            "                                                                                                  \n",
            " conv2d_2 (Conv2D)           (None, 13, 50, 32)           9248      ['max_pooling2d_1[0][0]']     \n",
            "                                                                                                  \n",
            " batch_normalization (Batch  (None, 13, 50, 32)           128       ['conv2d_2[0][0]']            \n",
            " Normalization)                                                                                   \n",
            "                                                                                                  \n",
            " max_pooling2d_2 (MaxPoolin  (None, 7, 25, 32)            0         ['batch_normalization[0][0]'] \n",
            " g2D)                                                                                             \n",
            "                                                                                                  \n",
            " flatten (Flatten)           (None, 5600)                 0         ['max_pooling2d_2[0][0]']     \n",
            "                                                                                                  \n",
            " dense (Dense)               (None, 64)                   358464    ['flatten[0][0]']             \n",
            "                                                                                                  \n",
            " dense_2 (Dense)             (None, 64)                   358464    ['flatten[0][0]']             \n",
            "                                                                                                  \n",
            " dense_4 (Dense)             (None, 64)                   358464    ['flatten[0][0]']             \n",
            "                                                                                                  \n",
            " dense_6 (Dense)             (None, 64)                   358464    ['flatten[0][0]']             \n",
            "                                                                                                  \n",
            " dense_8 (Dense)             (None, 64)                   358464    ['flatten[0][0]']             \n",
            "                                                                                                  \n",
            " dropout (Dropout)           (None, 64)                   0         ['dense[0][0]']               \n",
            "                                                                                                  \n",
            " dropout_1 (Dropout)         (None, 64)                   0         ['dense_2[0][0]']             \n",
            "                                                                                                  \n",
            " dropout_2 (Dropout)         (None, 64)                   0         ['dense_4[0][0]']             \n",
            "                                                                                                  \n",
            " dropout_3 (Dropout)         (None, 64)                   0         ['dense_6[0][0]']             \n",
            "                                                                                                  \n",
            " dropout_4 (Dropout)         (None, 64)                   0         ['dense_8[0][0]']             \n",
            "                                                                                                  \n",
            " dense_1 (Dense)             (None, 36)                   2340      ['dropout[0][0]']             \n",
            "                                                                                                  \n",
            " dense_3 (Dense)             (None, 36)                   2340      ['dropout_1[0][0]']           \n",
            "                                                                                                  \n",
            " dense_5 (Dense)             (None, 36)                   2340      ['dropout_2[0][0]']           \n",
            "                                                                                                  \n",
            " dense_7 (Dense)             (None, 36)                   2340      ['dropout_3[0][0]']           \n",
            "                                                                                                  \n",
            " dense_9 (Dense)             (None, 36)                   2340      ['dropout_4[0][0]']           \n",
            "                                                                                                  \n",
            "==================================================================================================\n",
            "Total params: 1818196 (6.94 MB)\n",
            "Trainable params: 1818132 (6.94 MB)\n",
            "Non-trainable params: 64 (256.00 Byte)\n",
            "__________________________________________________________________________________________________\n"
          ]
        }
      ]
    },
    {
      "cell_type": "markdown",
      "source": [
        "Trying to fit in that model"
      ],
      "metadata": {
        "id": "NY2BBkpgMXov"
      }
    },
    {
      "cell_type": "code",
      "source": [
        "#Applying the model\n",
        "hist = model.fit(X_train, [y_train[0], y_train[1], y_train[2], y_train[3], y_train[4]], batch_size=32, epochs=60, validation_split=0.2)\n",
        "#batch size- 32 defines no. of samples per gradient update\n",
        "#Validation split=0.2 splits the training set in 80-20% for training nd testing"
      ],
      "metadata": {
        "colab": {
          "base_uri": "https://localhost:8080/"
        },
        "id": "0qAZTMehFZr_",
        "outputId": "dc290f9c-9f66-4b42-cd9b-1c5b47184c5f"
      },
      "execution_count": 17,
      "outputs": [
        {
          "output_type": "stream",
          "name": "stdout",
          "text": [
            "Epoch 1/60\n",
            "25/25 [==============================] - 14s 300ms/step - loss: 18.0751 - dense_1_loss: 3.6128 - dense_3_loss: 3.5889 - dense_5_loss: 3.6385 - dense_7_loss: 3.6048 - dense_9_loss: 3.6301 - dense_1_accuracy: 0.0528 - dense_3_accuracy: 0.0619 - dense_5_accuracy: 0.0515 - dense_7_accuracy: 0.0567 - dense_9_accuracy: 0.0554 - val_loss: 17.7621 - val_dense_1_loss: 3.5460 - val_dense_3_loss: 3.5523 - val_dense_5_loss: 3.5540 - val_dense_7_loss: 3.5475 - val_dense_9_loss: 3.5622 - val_dense_1_accuracy: 0.0876 - val_dense_3_accuracy: 0.0464 - val_dense_5_accuracy: 0.0722 - val_dense_7_accuracy: 0.0412 - val_dense_9_accuracy: 0.0515\n",
            "Epoch 2/60\n",
            "25/25 [==============================] - 10s 380ms/step - loss: 16.8518 - dense_1_loss: 3.3242 - dense_3_loss: 3.4124 - dense_5_loss: 3.3669 - dense_7_loss: 3.3096 - dense_9_loss: 3.4387 - dense_1_accuracy: 0.0735 - dense_3_accuracy: 0.0606 - dense_5_accuracy: 0.0709 - dense_7_accuracy: 0.0644 - dense_9_accuracy: 0.0709 - val_loss: 17.6867 - val_dense_1_loss: 3.5395 - val_dense_3_loss: 3.5374 - val_dense_5_loss: 3.5417 - val_dense_7_loss: 3.5276 - val_dense_9_loss: 3.5405 - val_dense_1_accuracy: 0.0928 - val_dense_3_accuracy: 0.0773 - val_dense_5_accuracy: 0.0722 - val_dense_7_accuracy: 0.1237 - val_dense_9_accuracy: 0.1134\n",
            "Epoch 3/60\n",
            "25/25 [==============================] - 7s 262ms/step - loss: 15.9269 - dense_1_loss: 3.0910 - dense_3_loss: 3.2263 - dense_5_loss: 3.1913 - dense_7_loss: 3.1128 - dense_9_loss: 3.3056 - dense_1_accuracy: 0.1134 - dense_3_accuracy: 0.0747 - dense_5_accuracy: 0.0966 - dense_7_accuracy: 0.0979 - dense_9_accuracy: 0.0941 - val_loss: 17.4792 - val_dense_1_loss: 3.4874 - val_dense_3_loss: 3.4977 - val_dense_5_loss: 3.5009 - val_dense_7_loss: 3.4823 - val_dense_9_loss: 3.5109 - val_dense_1_accuracy: 0.2371 - val_dense_3_accuracy: 0.1186 - val_dense_5_accuracy: 0.0928 - val_dense_7_accuracy: 0.1804 - val_dense_9_accuracy: 0.1082\n",
            "Epoch 4/60\n",
            "25/25 [==============================] - 9s 370ms/step - loss: 14.6273 - dense_1_loss: 2.7234 - dense_3_loss: 2.9882 - dense_5_loss: 2.9519 - dense_7_loss: 2.8518 - dense_9_loss: 3.1120 - dense_1_accuracy: 0.1856 - dense_3_accuracy: 0.1379 - dense_5_accuracy: 0.1289 - dense_7_accuracy: 0.1534 - dense_9_accuracy: 0.1250 - val_loss: 17.3076 - val_dense_1_loss: 3.4220 - val_dense_3_loss: 3.4791 - val_dense_5_loss: 3.4684 - val_dense_7_loss: 3.4539 - val_dense_9_loss: 3.4842 - val_dense_1_accuracy: 0.3454 - val_dense_3_accuracy: 0.1495 - val_dense_5_accuracy: 0.1392 - val_dense_7_accuracy: 0.1649 - val_dense_9_accuracy: 0.1237\n",
            "Epoch 5/60\n",
            "25/25 [==============================] - 7s 261ms/step - loss: 13.0328 - dense_1_loss: 2.2577 - dense_3_loss: 2.6347 - dense_5_loss: 2.6339 - dense_7_loss: 2.6069 - dense_9_loss: 2.8995 - dense_1_accuracy: 0.2912 - dense_3_accuracy: 0.1753 - dense_5_accuracy: 0.1959 - dense_7_accuracy: 0.2204 - dense_9_accuracy: 0.1559 - val_loss: 16.8872 - val_dense_1_loss: 3.2730 - val_dense_3_loss: 3.3852 - val_dense_5_loss: 3.4067 - val_dense_7_loss: 3.3833 - val_dense_9_loss: 3.4390 - val_dense_1_accuracy: 0.5206 - val_dense_3_accuracy: 0.2371 - val_dense_5_accuracy: 0.2938 - val_dense_7_accuracy: 0.3144 - val_dense_9_accuracy: 0.1856\n",
            "Epoch 6/60\n",
            "25/25 [==============================] - 9s 361ms/step - loss: 11.2794 - dense_1_loss: 1.7289 - dense_3_loss: 2.2738 - dense_5_loss: 2.3703 - dense_7_loss: 2.2921 - dense_9_loss: 2.6143 - dense_1_accuracy: 0.4420 - dense_3_accuracy: 0.2771 - dense_5_accuracy: 0.2680 - dense_7_accuracy: 0.2745 - dense_9_accuracy: 0.2075 - val_loss: 16.3126 - val_dense_1_loss: 3.0770 - val_dense_3_loss: 3.2961 - val_dense_5_loss: 3.3071 - val_dense_7_loss: 3.2871 - val_dense_9_loss: 3.3453 - val_dense_1_accuracy: 0.6907 - val_dense_3_accuracy: 0.3093 - val_dense_5_accuracy: 0.4330 - val_dense_7_accuracy: 0.3608 - val_dense_9_accuracy: 0.2371\n",
            "Epoch 7/60\n",
            "25/25 [==============================] - 7s 265ms/step - loss: 9.6857 - dense_1_loss: 1.3053 - dense_3_loss: 1.9404 - dense_5_loss: 2.0522 - dense_7_loss: 1.9898 - dense_9_loss: 2.3980 - dense_1_accuracy: 0.5515 - dense_3_accuracy: 0.3866 - dense_5_accuracy: 0.3428 - dense_7_accuracy: 0.3647 - dense_9_accuracy: 0.2539 - val_loss: 15.5028 - val_dense_1_loss: 2.7917 - val_dense_3_loss: 3.1321 - val_dense_5_loss: 3.1724 - val_dense_7_loss: 3.1599 - val_dense_9_loss: 3.2467 - val_dense_1_accuracy: 0.8402 - val_dense_3_accuracy: 0.4381 - val_dense_5_accuracy: 0.4433 - val_dense_7_accuracy: 0.4691 - val_dense_9_accuracy: 0.2938\n",
            "Epoch 8/60\n",
            "25/25 [==============================] - 9s 374ms/step - loss: 8.4862 - dense_1_loss: 1.0007 - dense_3_loss: 1.7333 - dense_5_loss: 1.7754 - dense_7_loss: 1.6904 - dense_9_loss: 2.2863 - dense_1_accuracy: 0.6740 - dense_3_accuracy: 0.4201 - dense_5_accuracy: 0.4227 - dense_7_accuracy: 0.4536 - dense_9_accuracy: 0.2500 - val_loss: 14.3828 - val_dense_1_loss: 2.4567 - val_dense_3_loss: 2.9057 - val_dense_5_loss: 2.9477 - val_dense_7_loss: 2.9602 - val_dense_9_loss: 3.1125 - val_dense_1_accuracy: 0.9021 - val_dense_3_accuracy: 0.6237 - val_dense_5_accuracy: 0.5979 - val_dense_7_accuracy: 0.5206 - val_dense_9_accuracy: 0.3763\n",
            "Epoch 9/60\n",
            "25/25 [==============================] - 7s 276ms/step - loss: 8.0196 - dense_1_loss: 0.8728 - dense_3_loss: 1.6735 - dense_5_loss: 1.6408 - dense_7_loss: 1.6175 - dense_9_loss: 2.2150 - dense_1_accuracy: 0.6856 - dense_3_accuracy: 0.4227 - dense_5_accuracy: 0.4459 - dense_7_accuracy: 0.4613 - dense_9_accuracy: 0.2861 - val_loss: 13.4382 - val_dense_1_loss: 2.1625 - val_dense_3_loss: 2.7222 - val_dense_5_loss: 2.7524 - val_dense_7_loss: 2.7354 - val_dense_9_loss: 3.0656 - val_dense_1_accuracy: 0.9742 - val_dense_3_accuracy: 0.6907 - val_dense_5_accuracy: 0.6186 - val_dense_7_accuracy: 0.5619 - val_dense_9_accuracy: 0.4330\n",
            "Epoch 10/60\n",
            "25/25 [==============================] - 10s 415ms/step - loss: 7.1896 - dense_1_loss: 0.7495 - dense_3_loss: 1.5313 - dense_5_loss: 1.4240 - dense_7_loss: 1.4746 - dense_9_loss: 2.0103 - dense_1_accuracy: 0.7332 - dense_3_accuracy: 0.4652 - dense_5_accuracy: 0.5064 - dense_7_accuracy: 0.4832 - dense_9_accuracy: 0.3428 - val_loss: 12.3825 - val_dense_1_loss: 1.8376 - val_dense_3_loss: 2.5457 - val_dense_5_loss: 2.5530 - val_dense_7_loss: 2.5968 - val_dense_9_loss: 2.8494 - val_dense_1_accuracy: 0.9639 - val_dense_3_accuracy: 0.7371 - val_dense_5_accuracy: 0.6856 - val_dense_7_accuracy: 0.6598 - val_dense_9_accuracy: 0.5412\n",
            "Epoch 11/60\n",
            "25/25 [==============================] - 7s 278ms/step - loss: 6.6731 - dense_1_loss: 0.6966 - dense_3_loss: 1.4071 - dense_5_loss: 1.3610 - dense_7_loss: 1.2730 - dense_9_loss: 1.9353 - dense_1_accuracy: 0.7577 - dense_3_accuracy: 0.5064 - dense_5_accuracy: 0.5142 - dense_7_accuracy: 0.5683 - dense_9_accuracy: 0.3466 - val_loss: 11.2276 - val_dense_1_loss: 1.5187 - val_dense_3_loss: 2.3160 - val_dense_5_loss: 2.3315 - val_dense_7_loss: 2.3540 - val_dense_9_loss: 2.7073 - val_dense_1_accuracy: 0.9794 - val_dense_3_accuracy: 0.7113 - val_dense_5_accuracy: 0.6753 - val_dense_7_accuracy: 0.6753 - val_dense_9_accuracy: 0.5155\n",
            "Epoch 12/60\n",
            "25/25 [==============================] - 9s 366ms/step - loss: 6.3120 - dense_1_loss: 0.5975 - dense_3_loss: 1.3565 - dense_5_loss: 1.2853 - dense_7_loss: 1.2355 - dense_9_loss: 1.8372 - dense_1_accuracy: 0.7861 - dense_3_accuracy: 0.5296 - dense_5_accuracy: 0.5657 - dense_7_accuracy: 0.5593 - dense_9_accuracy: 0.3711 - val_loss: 10.0864 - val_dense_1_loss: 1.1546 - val_dense_3_loss: 2.0841 - val_dense_5_loss: 2.1412 - val_dense_7_loss: 2.1418 - val_dense_9_loss: 2.5647 - val_dense_1_accuracy: 0.9794 - val_dense_3_accuracy: 0.7887 - val_dense_5_accuracy: 0.7216 - val_dense_7_accuracy: 0.7062 - val_dense_9_accuracy: 0.5361\n",
            "Epoch 13/60\n",
            "25/25 [==============================] - 7s 274ms/step - loss: 6.0240 - dense_1_loss: 0.6120 - dense_3_loss: 1.3027 - dense_5_loss: 1.1333 - dense_7_loss: 1.1567 - dense_9_loss: 1.8193 - dense_1_accuracy: 0.7771 - dense_3_accuracy: 0.5412 - dense_5_accuracy: 0.6005 - dense_7_accuracy: 0.5760 - dense_9_accuracy: 0.3582 - val_loss: 9.1937 - val_dense_1_loss: 1.0349 - val_dense_3_loss: 1.9373 - val_dense_5_loss: 1.8938 - val_dense_7_loss: 1.9401 - val_dense_9_loss: 2.3876 - val_dense_1_accuracy: 0.9691 - val_dense_3_accuracy: 0.8093 - val_dense_5_accuracy: 0.7423 - val_dense_7_accuracy: 0.7216 - val_dense_9_accuracy: 0.5258\n",
            "Epoch 14/60\n",
            "25/25 [==============================] - 9s 369ms/step - loss: 5.6002 - dense_1_loss: 0.5367 - dense_3_loss: 1.1843 - dense_5_loss: 1.0319 - dense_7_loss: 1.0752 - dense_9_loss: 1.7722 - dense_1_accuracy: 0.7912 - dense_3_accuracy: 0.5670 - dense_5_accuracy: 0.6302 - dense_7_accuracy: 0.6134 - dense_9_accuracy: 0.3608 - val_loss: 7.5856 - val_dense_1_loss: 0.6592 - val_dense_3_loss: 1.6279 - val_dense_5_loss: 1.5521 - val_dense_7_loss: 1.5922 - val_dense_9_loss: 2.1542 - val_dense_1_accuracy: 0.9794 - val_dense_3_accuracy: 0.8247 - val_dense_5_accuracy: 0.7784 - val_dense_7_accuracy: 0.7165 - val_dense_9_accuracy: 0.5464\n",
            "Epoch 15/60\n",
            "25/25 [==============================] - 7s 270ms/step - loss: 5.2751 - dense_1_loss: 0.4541 - dense_3_loss: 1.1171 - dense_5_loss: 0.9758 - dense_7_loss: 1.0156 - dense_9_loss: 1.7126 - dense_1_accuracy: 0.8351 - dense_3_accuracy: 0.5966 - dense_5_accuracy: 0.6495 - dense_7_accuracy: 0.6379 - dense_9_accuracy: 0.3956 - val_loss: 7.3064 - val_dense_1_loss: 0.5949 - val_dense_3_loss: 1.6067 - val_dense_5_loss: 1.4040 - val_dense_7_loss: 1.6033 - val_dense_9_loss: 2.0974 - val_dense_1_accuracy: 0.9897 - val_dense_3_accuracy: 0.8247 - val_dense_5_accuracy: 0.7835 - val_dense_7_accuracy: 0.7423 - val_dense_9_accuracy: 0.6082\n",
            "Epoch 16/60\n",
            "25/25 [==============================] - 9s 376ms/step - loss: 5.1070 - dense_1_loss: 0.4063 - dense_3_loss: 1.1538 - dense_5_loss: 0.9156 - dense_7_loss: 1.0037 - dense_9_loss: 1.6275 - dense_1_accuracy: 0.8479 - dense_3_accuracy: 0.5915 - dense_5_accuracy: 0.6611 - dense_7_accuracy: 0.6327 - dense_9_accuracy: 0.4343 - val_loss: 6.0231 - val_dense_1_loss: 0.3694 - val_dense_3_loss: 1.2603 - val_dense_5_loss: 1.2245 - val_dense_7_loss: 1.2632 - val_dense_9_loss: 1.9056 - val_dense_1_accuracy: 0.9897 - val_dense_3_accuracy: 0.8454 - val_dense_5_accuracy: 0.7938 - val_dense_7_accuracy: 0.7629 - val_dense_9_accuracy: 0.5670\n",
            "Epoch 17/60\n",
            "25/25 [==============================] - 6s 258ms/step - loss: 4.7565 - dense_1_loss: 0.4088 - dense_3_loss: 1.0189 - dense_5_loss: 0.8930 - dense_7_loss: 0.8830 - dense_9_loss: 1.5528 - dense_1_accuracy: 0.8479 - dense_3_accuracy: 0.6237 - dense_5_accuracy: 0.6688 - dense_7_accuracy: 0.6791 - dense_9_accuracy: 0.4485 - val_loss: 4.8923 - val_dense_1_loss: 0.1976 - val_dense_3_loss: 1.0210 - val_dense_5_loss: 0.9114 - val_dense_7_loss: 1.1009 - val_dense_9_loss: 1.6613 - val_dense_1_accuracy: 0.9948 - val_dense_3_accuracy: 0.8144 - val_dense_5_accuracy: 0.8299 - val_dense_7_accuracy: 0.7629 - val_dense_9_accuracy: 0.5773\n",
            "Epoch 18/60\n",
            "25/25 [==============================] - 9s 359ms/step - loss: 4.4649 - dense_1_loss: 0.3460 - dense_3_loss: 0.9775 - dense_5_loss: 0.8025 - dense_7_loss: 0.8475 - dense_9_loss: 1.4914 - dense_1_accuracy: 0.8853 - dense_3_accuracy: 0.6366 - dense_5_accuracy: 0.6985 - dense_7_accuracy: 0.6985 - dense_9_accuracy: 0.4652 - val_loss: 4.7288 - val_dense_1_loss: 0.1887 - val_dense_3_loss: 0.9150 - val_dense_5_loss: 0.9573 - val_dense_7_loss: 1.0952 - val_dense_9_loss: 1.5726 - val_dense_1_accuracy: 0.9897 - val_dense_3_accuracy: 0.8454 - val_dense_5_accuracy: 0.7887 - val_dense_7_accuracy: 0.7629 - val_dense_9_accuracy: 0.5825\n",
            "Epoch 19/60\n",
            "25/25 [==============================] - 7s 269ms/step - loss: 4.1586 - dense_1_loss: 0.3410 - dense_3_loss: 0.9472 - dense_5_loss: 0.7195 - dense_7_loss: 0.7845 - dense_9_loss: 1.3663 - dense_1_accuracy: 0.8660 - dense_3_accuracy: 0.6469 - dense_5_accuracy: 0.7281 - dense_7_accuracy: 0.7023 - dense_9_accuracy: 0.5103 - val_loss: 3.9438 - val_dense_1_loss: 0.1286 - val_dense_3_loss: 0.7866 - val_dense_5_loss: 0.7163 - val_dense_7_loss: 0.9790 - val_dense_9_loss: 1.3334 - val_dense_1_accuracy: 0.9794 - val_dense_3_accuracy: 0.8608 - val_dense_5_accuracy: 0.8711 - val_dense_7_accuracy: 0.7165 - val_dense_9_accuracy: 0.6443\n",
            "Epoch 20/60\n",
            "25/25 [==============================] - 9s 347ms/step - loss: 4.2464 - dense_1_loss: 0.3514 - dense_3_loss: 0.9270 - dense_5_loss: 0.7459 - dense_7_loss: 0.7559 - dense_9_loss: 1.4663 - dense_1_accuracy: 0.8698 - dense_3_accuracy: 0.6443 - dense_5_accuracy: 0.7178 - dense_7_accuracy: 0.7165 - dense_9_accuracy: 0.4601 - val_loss: 3.5280 - val_dense_1_loss: 0.0971 - val_dense_3_loss: 0.6472 - val_dense_5_loss: 0.6770 - val_dense_7_loss: 0.8930 - val_dense_9_loss: 1.2136 - val_dense_1_accuracy: 0.9948 - val_dense_3_accuracy: 0.8660 - val_dense_5_accuracy: 0.8505 - val_dense_7_accuracy: 0.7629 - val_dense_9_accuracy: 0.6443\n",
            "Epoch 21/60\n",
            "25/25 [==============================] - 6s 259ms/step - loss: 3.8532 - dense_1_loss: 0.3371 - dense_3_loss: 0.8097 - dense_5_loss: 0.6707 - dense_7_loss: 0.6865 - dense_9_loss: 1.3492 - dense_1_accuracy: 0.8711 - dense_3_accuracy: 0.6856 - dense_5_accuracy: 0.7577 - dense_7_accuracy: 0.7564 - dense_9_accuracy: 0.5026 - val_loss: 3.3851 - val_dense_1_loss: 0.0674 - val_dense_3_loss: 0.5828 - val_dense_5_loss: 0.6228 - val_dense_7_loss: 0.9027 - val_dense_9_loss: 1.2095 - val_dense_1_accuracy: 0.9897 - val_dense_3_accuracy: 0.8763 - val_dense_5_accuracy: 0.8608 - val_dense_7_accuracy: 0.7474 - val_dense_9_accuracy: 0.6082\n",
            "Epoch 22/60\n",
            "25/25 [==============================] - 9s 356ms/step - loss: 3.8956 - dense_1_loss: 0.3198 - dense_3_loss: 0.8288 - dense_5_loss: 0.7276 - dense_7_loss: 0.7070 - dense_9_loss: 1.3124 - dense_1_accuracy: 0.8827 - dense_3_accuracy: 0.6894 - dense_5_accuracy: 0.7307 - dense_7_accuracy: 0.7423 - dense_9_accuracy: 0.5168 - val_loss: 3.0440 - val_dense_1_loss: 0.0591 - val_dense_3_loss: 0.5185 - val_dense_5_loss: 0.5912 - val_dense_7_loss: 0.8431 - val_dense_9_loss: 1.0321 - val_dense_1_accuracy: 0.9845 - val_dense_3_accuracy: 0.8608 - val_dense_5_accuracy: 0.8505 - val_dense_7_accuracy: 0.7526 - val_dense_9_accuracy: 0.6907\n",
            "Epoch 23/60\n",
            "25/25 [==============================] - 7s 266ms/step - loss: 3.6221 - dense_1_loss: 0.2721 - dense_3_loss: 0.7685 - dense_5_loss: 0.6871 - dense_7_loss: 0.6681 - dense_9_loss: 1.2264 - dense_1_accuracy: 0.8853 - dense_3_accuracy: 0.7178 - dense_5_accuracy: 0.7345 - dense_7_accuracy: 0.7629 - dense_9_accuracy: 0.5451 - val_loss: 2.8232 - val_dense_1_loss: 0.0400 - val_dense_3_loss: 0.4775 - val_dense_5_loss: 0.5128 - val_dense_7_loss: 0.7914 - val_dense_9_loss: 1.0015 - val_dense_1_accuracy: 0.9948 - val_dense_3_accuracy: 0.8918 - val_dense_5_accuracy: 0.9021 - val_dense_7_accuracy: 0.7990 - val_dense_9_accuracy: 0.6701\n",
            "Epoch 24/60\n",
            "25/25 [==============================] - 9s 376ms/step - loss: 3.3010 - dense_1_loss: 0.2578 - dense_3_loss: 0.7285 - dense_5_loss: 0.5559 - dense_7_loss: 0.6550 - dense_9_loss: 1.1038 - dense_1_accuracy: 0.9162 - dense_3_accuracy: 0.7345 - dense_5_accuracy: 0.7951 - dense_7_accuracy: 0.7526 - dense_9_accuracy: 0.5928 - val_loss: 2.8260 - val_dense_1_loss: 0.0554 - val_dense_3_loss: 0.4556 - val_dense_5_loss: 0.5217 - val_dense_7_loss: 0.8237 - val_dense_9_loss: 0.9697 - val_dense_1_accuracy: 0.9897 - val_dense_3_accuracy: 0.8918 - val_dense_5_accuracy: 0.8711 - val_dense_7_accuracy: 0.7887 - val_dense_9_accuracy: 0.6856\n",
            "Epoch 25/60\n",
            "25/25 [==============================] - 6s 259ms/step - loss: 3.3099 - dense_1_loss: 0.2861 - dense_3_loss: 0.6469 - dense_5_loss: 0.5505 - dense_7_loss: 0.6307 - dense_9_loss: 1.1957 - dense_1_accuracy: 0.8930 - dense_3_accuracy: 0.7539 - dense_5_accuracy: 0.7912 - dense_7_accuracy: 0.7552 - dense_9_accuracy: 0.5464 - val_loss: 2.5814 - val_dense_1_loss: 0.0206 - val_dense_3_loss: 0.3956 - val_dense_5_loss: 0.5228 - val_dense_7_loss: 0.8031 - val_dense_9_loss: 0.8393 - val_dense_1_accuracy: 0.9948 - val_dense_3_accuracy: 0.9072 - val_dense_5_accuracy: 0.8660 - val_dense_7_accuracy: 0.7938 - val_dense_9_accuracy: 0.7216\n",
            "Epoch 26/60\n",
            "25/25 [==============================] - 9s 350ms/step - loss: 3.1991 - dense_1_loss: 0.2809 - dense_3_loss: 0.6919 - dense_5_loss: 0.5543 - dense_7_loss: 0.6530 - dense_9_loss: 1.0190 - dense_1_accuracy: 0.8866 - dense_3_accuracy: 0.7358 - dense_5_accuracy: 0.7835 - dense_7_accuracy: 0.7668 - dense_9_accuracy: 0.6031 - val_loss: 2.7132 - val_dense_1_loss: 0.0230 - val_dense_3_loss: 0.4094 - val_dense_5_loss: 0.4698 - val_dense_7_loss: 0.9503 - val_dense_9_loss: 0.8607 - val_dense_1_accuracy: 1.0000 - val_dense_3_accuracy: 0.9072 - val_dense_5_accuracy: 0.8763 - val_dense_7_accuracy: 0.7784 - val_dense_9_accuracy: 0.7113\n",
            "Epoch 27/60\n",
            "25/25 [==============================] - 7s 267ms/step - loss: 2.9735 - dense_1_loss: 0.2436 - dense_3_loss: 0.5800 - dense_5_loss: 0.5592 - dense_7_loss: 0.5480 - dense_9_loss: 1.0427 - dense_1_accuracy: 0.9059 - dense_3_accuracy: 0.7629 - dense_5_accuracy: 0.7938 - dense_7_accuracy: 0.7951 - dense_9_accuracy: 0.6121 - val_loss: 2.7196 - val_dense_1_loss: 0.0365 - val_dense_3_loss: 0.4660 - val_dense_5_loss: 0.4762 - val_dense_7_loss: 0.9159 - val_dense_9_loss: 0.8249 - val_dense_1_accuracy: 0.9897 - val_dense_3_accuracy: 0.8557 - val_dense_5_accuracy: 0.8608 - val_dense_7_accuracy: 0.7371 - val_dense_9_accuracy: 0.7320\n",
            "Epoch 28/60\n",
            "25/25 [==============================] - 9s 361ms/step - loss: 2.9535 - dense_1_loss: 0.2423 - dense_3_loss: 0.6497 - dense_5_loss: 0.5328 - dense_7_loss: 0.5908 - dense_9_loss: 0.9379 - dense_1_accuracy: 0.9085 - dense_3_accuracy: 0.7616 - dense_5_accuracy: 0.8054 - dense_7_accuracy: 0.7745 - dense_9_accuracy: 0.6379 - val_loss: 2.4611 - val_dense_1_loss: 0.0208 - val_dense_3_loss: 0.3726 - val_dense_5_loss: 0.5050 - val_dense_7_loss: 0.7686 - val_dense_9_loss: 0.7942 - val_dense_1_accuracy: 1.0000 - val_dense_3_accuracy: 0.8969 - val_dense_5_accuracy: 0.8763 - val_dense_7_accuracy: 0.7887 - val_dense_9_accuracy: 0.7371\n",
            "Epoch 29/60\n",
            "25/25 [==============================] - 10s 417ms/step - loss: 2.7958 - dense_1_loss: 0.2193 - dense_3_loss: 0.6305 - dense_5_loss: 0.4552 - dense_7_loss: 0.5557 - dense_9_loss: 0.9350 - dense_1_accuracy: 0.9137 - dense_3_accuracy: 0.7668 - dense_5_accuracy: 0.8299 - dense_7_accuracy: 0.7964 - dense_9_accuracy: 0.6482 - val_loss: 2.4527 - val_dense_1_loss: 0.0195 - val_dense_3_loss: 0.3378 - val_dense_5_loss: 0.5253 - val_dense_7_loss: 0.7834 - val_dense_9_loss: 0.7867 - val_dense_1_accuracy: 0.9948 - val_dense_3_accuracy: 0.9072 - val_dense_5_accuracy: 0.8711 - val_dense_7_accuracy: 0.8041 - val_dense_9_accuracy: 0.7526\n",
            "Epoch 30/60\n",
            "25/25 [==============================] - 7s 277ms/step - loss: 2.7182 - dense_1_loss: 0.1820 - dense_3_loss: 0.5672 - dense_5_loss: 0.5088 - dense_7_loss: 0.5589 - dense_9_loss: 0.9014 - dense_1_accuracy: 0.9253 - dense_3_accuracy: 0.7835 - dense_5_accuracy: 0.8144 - dense_7_accuracy: 0.8003 - dense_9_accuracy: 0.6521 - val_loss: 2.4655 - val_dense_1_loss: 0.0255 - val_dense_3_loss: 0.3916 - val_dense_5_loss: 0.5297 - val_dense_7_loss: 0.8188 - val_dense_9_loss: 0.6998 - val_dense_1_accuracy: 0.9897 - val_dense_3_accuracy: 0.8969 - val_dense_5_accuracy: 0.8505 - val_dense_7_accuracy: 0.8351 - val_dense_9_accuracy: 0.7732\n",
            "Epoch 31/60\n",
            "25/25 [==============================] - 8s 317ms/step - loss: 2.7333 - dense_1_loss: 0.1581 - dense_3_loss: 0.5745 - dense_5_loss: 0.5151 - dense_7_loss: 0.5800 - dense_9_loss: 0.9055 - dense_1_accuracy: 0.9356 - dense_3_accuracy: 0.7835 - dense_5_accuracy: 0.8054 - dense_7_accuracy: 0.7848 - dense_9_accuracy: 0.6559 - val_loss: 2.3183 - val_dense_1_loss: 0.0139 - val_dense_3_loss: 0.3339 - val_dense_5_loss: 0.5114 - val_dense_7_loss: 0.7727 - val_dense_9_loss: 0.6863 - val_dense_1_accuracy: 0.9948 - val_dense_3_accuracy: 0.8969 - val_dense_5_accuracy: 0.8505 - val_dense_7_accuracy: 0.8093 - val_dense_9_accuracy: 0.7629\n",
            "Epoch 32/60\n",
            "25/25 [==============================] - 8s 300ms/step - loss: 2.6844 - dense_1_loss: 0.2521 - dense_3_loss: 0.5349 - dense_5_loss: 0.4682 - dense_7_loss: 0.5910 - dense_9_loss: 0.8382 - dense_1_accuracy: 0.8956 - dense_3_accuracy: 0.7925 - dense_5_accuracy: 0.8222 - dense_7_accuracy: 0.7706 - dense_9_accuracy: 0.6894 - val_loss: 2.3505 - val_dense_1_loss: 0.0165 - val_dense_3_loss: 0.3301 - val_dense_5_loss: 0.5329 - val_dense_7_loss: 0.7826 - val_dense_9_loss: 0.6885 - val_dense_1_accuracy: 0.9948 - val_dense_3_accuracy: 0.9175 - val_dense_5_accuracy: 0.8814 - val_dense_7_accuracy: 0.7887 - val_dense_9_accuracy: 0.7474\n",
            "Epoch 33/60\n",
            "25/25 [==============================] - 8s 336ms/step - loss: 2.3989 - dense_1_loss: 0.1968 - dense_3_loss: 0.4701 - dense_5_loss: 0.4617 - dense_7_loss: 0.4802 - dense_9_loss: 0.7901 - dense_1_accuracy: 0.9394 - dense_3_accuracy: 0.8106 - dense_5_accuracy: 0.8351 - dense_7_accuracy: 0.8260 - dense_9_accuracy: 0.6946 - val_loss: 2.4507 - val_dense_1_loss: 0.0225 - val_dense_3_loss: 0.3245 - val_dense_5_loss: 0.5519 - val_dense_7_loss: 0.8406 - val_dense_9_loss: 0.7112 - val_dense_1_accuracy: 0.9845 - val_dense_3_accuracy: 0.9124 - val_dense_5_accuracy: 0.8763 - val_dense_7_accuracy: 0.7835 - val_dense_9_accuracy: 0.7577\n",
            "Epoch 34/60\n",
            "25/25 [==============================] - 7s 281ms/step - loss: 2.4486 - dense_1_loss: 0.2042 - dense_3_loss: 0.4510 - dense_5_loss: 0.4837 - dense_7_loss: 0.5135 - dense_9_loss: 0.7963 - dense_1_accuracy: 0.9214 - dense_3_accuracy: 0.8235 - dense_5_accuracy: 0.8093 - dense_7_accuracy: 0.8183 - dense_9_accuracy: 0.7088 - val_loss: 2.2659 - val_dense_1_loss: 0.0392 - val_dense_3_loss: 0.3366 - val_dense_5_loss: 0.5046 - val_dense_7_loss: 0.7256 - val_dense_9_loss: 0.6600 - val_dense_1_accuracy: 0.9845 - val_dense_3_accuracy: 0.9124 - val_dense_5_accuracy: 0.8814 - val_dense_7_accuracy: 0.8402 - val_dense_9_accuracy: 0.7784\n",
            "Epoch 35/60\n",
            "25/25 [==============================] - 9s 347ms/step - loss: 2.4299 - dense_1_loss: 0.2055 - dense_3_loss: 0.4280 - dense_5_loss: 0.5077 - dense_7_loss: 0.5158 - dense_9_loss: 0.7729 - dense_1_accuracy: 0.9201 - dense_3_accuracy: 0.8402 - dense_5_accuracy: 0.7861 - dense_7_accuracy: 0.8067 - dense_9_accuracy: 0.7049 - val_loss: 2.2094 - val_dense_1_loss: 0.0232 - val_dense_3_loss: 0.3133 - val_dense_5_loss: 0.5110 - val_dense_7_loss: 0.7351 - val_dense_9_loss: 0.6268 - val_dense_1_accuracy: 0.9948 - val_dense_3_accuracy: 0.9124 - val_dense_5_accuracy: 0.8660 - val_dense_7_accuracy: 0.8299 - val_dense_9_accuracy: 0.7887\n",
            "Epoch 36/60\n",
            "25/25 [==============================] - 6s 258ms/step - loss: 2.2982 - dense_1_loss: 0.1802 - dense_3_loss: 0.4001 - dense_5_loss: 0.4640 - dense_7_loss: 0.5041 - dense_9_loss: 0.7497 - dense_1_accuracy: 0.9356 - dense_3_accuracy: 0.8441 - dense_5_accuracy: 0.8338 - dense_7_accuracy: 0.7977 - dense_9_accuracy: 0.7101 - val_loss: 2.2222 - val_dense_1_loss: 0.0212 - val_dense_3_loss: 0.3014 - val_dense_5_loss: 0.5107 - val_dense_7_loss: 0.7427 - val_dense_9_loss: 0.6460 - val_dense_1_accuracy: 0.9948 - val_dense_3_accuracy: 0.9175 - val_dense_5_accuracy: 0.8660 - val_dense_7_accuracy: 0.7990 - val_dense_9_accuracy: 0.7887\n",
            "Epoch 37/60\n",
            "25/25 [==============================] - 9s 364ms/step - loss: 2.2348 - dense_1_loss: 0.1751 - dense_3_loss: 0.4053 - dense_5_loss: 0.4495 - dense_7_loss: 0.4561 - dense_9_loss: 0.7488 - dense_1_accuracy: 0.9343 - dense_3_accuracy: 0.8363 - dense_5_accuracy: 0.8363 - dense_7_accuracy: 0.8093 - dense_9_accuracy: 0.7191 - val_loss: 2.2701 - val_dense_1_loss: 0.0173 - val_dense_3_loss: 0.3496 - val_dense_5_loss: 0.4630 - val_dense_7_loss: 0.8090 - val_dense_9_loss: 0.6312 - val_dense_1_accuracy: 0.9897 - val_dense_3_accuracy: 0.9124 - val_dense_5_accuracy: 0.8763 - val_dense_7_accuracy: 0.7990 - val_dense_9_accuracy: 0.8247\n",
            "Epoch 38/60\n",
            "25/25 [==============================] - 7s 273ms/step - loss: 2.2420 - dense_1_loss: 0.1849 - dense_3_loss: 0.3878 - dense_5_loss: 0.4331 - dense_7_loss: 0.5207 - dense_9_loss: 0.7156 - dense_1_accuracy: 0.9227 - dense_3_accuracy: 0.8570 - dense_5_accuracy: 0.8415 - dense_7_accuracy: 0.7925 - dense_9_accuracy: 0.7242 - val_loss: 2.2533 - val_dense_1_loss: 0.0346 - val_dense_3_loss: 0.3113 - val_dense_5_loss: 0.4621 - val_dense_7_loss: 0.8201 - val_dense_9_loss: 0.6253 - val_dense_1_accuracy: 0.9897 - val_dense_3_accuracy: 0.9330 - val_dense_5_accuracy: 0.8711 - val_dense_7_accuracy: 0.8041 - val_dense_9_accuracy: 0.8041\n",
            "Epoch 39/60\n",
            "25/25 [==============================] - 9s 370ms/step - loss: 2.2272 - dense_1_loss: 0.1692 - dense_3_loss: 0.4091 - dense_5_loss: 0.4567 - dense_7_loss: 0.5204 - dense_9_loss: 0.6719 - dense_1_accuracy: 0.9394 - dense_3_accuracy: 0.8479 - dense_5_accuracy: 0.8183 - dense_7_accuracy: 0.7861 - dense_9_accuracy: 0.7332 - val_loss: 2.2034 - val_dense_1_loss: 0.0320 - val_dense_3_loss: 0.3743 - val_dense_5_loss: 0.4418 - val_dense_7_loss: 0.7847 - val_dense_9_loss: 0.5706 - val_dense_1_accuracy: 0.9897 - val_dense_3_accuracy: 0.9072 - val_dense_5_accuracy: 0.8711 - val_dense_7_accuracy: 0.8402 - val_dense_9_accuracy: 0.8299\n",
            "Epoch 40/60\n",
            "25/25 [==============================] - 7s 267ms/step - loss: 2.0827 - dense_1_loss: 0.1828 - dense_3_loss: 0.4351 - dense_5_loss: 0.3986 - dense_7_loss: 0.4027 - dense_9_loss: 0.6636 - dense_1_accuracy: 0.9330 - dense_3_accuracy: 0.8466 - dense_5_accuracy: 0.8454 - dense_7_accuracy: 0.8505 - dense_9_accuracy: 0.7358 - val_loss: 2.3639 - val_dense_1_loss: 0.0134 - val_dense_3_loss: 0.4368 - val_dense_5_loss: 0.4699 - val_dense_7_loss: 0.8325 - val_dense_9_loss: 0.6114 - val_dense_1_accuracy: 0.9948 - val_dense_3_accuracy: 0.9124 - val_dense_5_accuracy: 0.8763 - val_dense_7_accuracy: 0.8093 - val_dense_9_accuracy: 0.8299\n",
            "Epoch 41/60\n",
            "25/25 [==============================] - 8s 343ms/step - loss: 2.0929 - dense_1_loss: 0.1702 - dense_3_loss: 0.3819 - dense_5_loss: 0.4124 - dense_7_loss: 0.4294 - dense_9_loss: 0.6990 - dense_1_accuracy: 0.9407 - dense_3_accuracy: 0.8570 - dense_5_accuracy: 0.8518 - dense_7_accuracy: 0.8299 - dense_9_accuracy: 0.7204 - val_loss: 2.2582 - val_dense_1_loss: 0.0294 - val_dense_3_loss: 0.3450 - val_dense_5_loss: 0.5233 - val_dense_7_loss: 0.7732 - val_dense_9_loss: 0.5874 - val_dense_1_accuracy: 0.9845 - val_dense_3_accuracy: 0.9227 - val_dense_5_accuracy: 0.8505 - val_dense_7_accuracy: 0.8041 - val_dense_9_accuracy: 0.8299\n",
            "Epoch 42/60\n",
            "25/25 [==============================] - 6s 252ms/step - loss: 2.1026 - dense_1_loss: 0.1577 - dense_3_loss: 0.4196 - dense_5_loss: 0.4176 - dense_7_loss: 0.4365 - dense_9_loss: 0.6711 - dense_1_accuracy: 0.9433 - dense_3_accuracy: 0.8402 - dense_5_accuracy: 0.8505 - dense_7_accuracy: 0.8402 - dense_9_accuracy: 0.7410 - val_loss: 2.1410 - val_dense_1_loss: 0.0219 - val_dense_3_loss: 0.3391 - val_dense_5_loss: 0.5134 - val_dense_7_loss: 0.6889 - val_dense_9_loss: 0.5776 - val_dense_1_accuracy: 0.9897 - val_dense_3_accuracy: 0.9175 - val_dense_5_accuracy: 0.8454 - val_dense_7_accuracy: 0.8093 - val_dense_9_accuracy: 0.8299\n",
            "Epoch 43/60\n",
            "25/25 [==============================] - 9s 351ms/step - loss: 2.0967 - dense_1_loss: 0.1553 - dense_3_loss: 0.4092 - dense_5_loss: 0.3976 - dense_7_loss: 0.5179 - dense_9_loss: 0.6168 - dense_1_accuracy: 0.9433 - dense_3_accuracy: 0.8428 - dense_5_accuracy: 0.8531 - dense_7_accuracy: 0.7990 - dense_9_accuracy: 0.7616 - val_loss: 2.3985 - val_dense_1_loss: 0.0293 - val_dense_3_loss: 0.3844 - val_dense_5_loss: 0.5489 - val_dense_7_loss: 0.8918 - val_dense_9_loss: 0.5441 - val_dense_1_accuracy: 0.9897 - val_dense_3_accuracy: 0.9227 - val_dense_5_accuracy: 0.8711 - val_dense_7_accuracy: 0.8247 - val_dense_9_accuracy: 0.8454\n",
            "Epoch 44/60\n",
            "25/25 [==============================] - 6s 260ms/step - loss: 1.9376 - dense_1_loss: 0.1323 - dense_3_loss: 0.3745 - dense_5_loss: 0.4005 - dense_7_loss: 0.4297 - dense_9_loss: 0.6006 - dense_1_accuracy: 0.9549 - dense_3_accuracy: 0.8582 - dense_5_accuracy: 0.8415 - dense_7_accuracy: 0.8312 - dense_9_accuracy: 0.7603 - val_loss: 2.0848 - val_dense_1_loss: 0.0399 - val_dense_3_loss: 0.3525 - val_dense_5_loss: 0.5285 - val_dense_7_loss: 0.6500 - val_dense_9_loss: 0.5139 - val_dense_1_accuracy: 0.9742 - val_dense_3_accuracy: 0.9227 - val_dense_5_accuracy: 0.8608 - val_dense_7_accuracy: 0.8454 - val_dense_9_accuracy: 0.8454\n",
            "Epoch 45/60\n",
            "25/25 [==============================] - 9s 346ms/step - loss: 1.8614 - dense_1_loss: 0.1601 - dense_3_loss: 0.3941 - dense_5_loss: 0.3489 - dense_7_loss: 0.3904 - dense_9_loss: 0.5679 - dense_1_accuracy: 0.9394 - dense_3_accuracy: 0.8441 - dense_5_accuracy: 0.8608 - dense_7_accuracy: 0.8570 - dense_9_accuracy: 0.7809 - val_loss: 2.2611 - val_dense_1_loss: 0.0250 - val_dense_3_loss: 0.3414 - val_dense_5_loss: 0.5798 - val_dense_7_loss: 0.7443 - val_dense_9_loss: 0.5706 - val_dense_1_accuracy: 0.9897 - val_dense_3_accuracy: 0.9330 - val_dense_5_accuracy: 0.8660 - val_dense_7_accuracy: 0.8247 - val_dense_9_accuracy: 0.8557\n",
            "Epoch 46/60\n",
            "25/25 [==============================] - 6s 246ms/step - loss: 1.8014 - dense_1_loss: 0.1316 - dense_3_loss: 0.3550 - dense_5_loss: 0.3735 - dense_7_loss: 0.4000 - dense_9_loss: 0.5413 - dense_1_accuracy: 0.9407 - dense_3_accuracy: 0.8776 - dense_5_accuracy: 0.8518 - dense_7_accuracy: 0.8479 - dense_9_accuracy: 0.7861 - val_loss: 2.1743 - val_dense_1_loss: 0.0408 - val_dense_3_loss: 0.3363 - val_dense_5_loss: 0.5378 - val_dense_7_loss: 0.7632 - val_dense_9_loss: 0.4963 - val_dense_1_accuracy: 0.9845 - val_dense_3_accuracy: 0.9381 - val_dense_5_accuracy: 0.8711 - val_dense_7_accuracy: 0.8402 - val_dense_9_accuracy: 0.8763\n",
            "Epoch 47/60\n",
            "25/25 [==============================] - 9s 354ms/step - loss: 1.8575 - dense_1_loss: 0.1453 - dense_3_loss: 0.2875 - dense_5_loss: 0.3832 - dense_7_loss: 0.4371 - dense_9_loss: 0.6043 - dense_1_accuracy: 0.9420 - dense_3_accuracy: 0.8995 - dense_5_accuracy: 0.8557 - dense_7_accuracy: 0.8299 - dense_9_accuracy: 0.7590 - val_loss: 2.2600 - val_dense_1_loss: 0.0212 - val_dense_3_loss: 0.3758 - val_dense_5_loss: 0.5267 - val_dense_7_loss: 0.7934 - val_dense_9_loss: 0.5428 - val_dense_1_accuracy: 0.9948 - val_dense_3_accuracy: 0.9278 - val_dense_5_accuracy: 0.8763 - val_dense_7_accuracy: 0.8144 - val_dense_9_accuracy: 0.8454\n",
            "Epoch 48/60\n",
            "25/25 [==============================] - 7s 272ms/step - loss: 1.7885 - dense_1_loss: 0.1227 - dense_3_loss: 0.3563 - dense_5_loss: 0.3858 - dense_7_loss: 0.3863 - dense_9_loss: 0.5375 - dense_1_accuracy: 0.9588 - dense_3_accuracy: 0.8647 - dense_5_accuracy: 0.8492 - dense_7_accuracy: 0.8570 - dense_9_accuracy: 0.7912 - val_loss: 2.1410 - val_dense_1_loss: 0.0129 - val_dense_3_loss: 0.3335 - val_dense_5_loss: 0.5160 - val_dense_7_loss: 0.7386 - val_dense_9_loss: 0.5399 - val_dense_1_accuracy: 0.9897 - val_dense_3_accuracy: 0.9381 - val_dense_5_accuracy: 0.8763 - val_dense_7_accuracy: 0.8299 - val_dense_9_accuracy: 0.8660\n",
            "Epoch 49/60\n",
            "25/25 [==============================] - 9s 355ms/step - loss: 1.7870 - dense_1_loss: 0.1503 - dense_3_loss: 0.3568 - dense_5_loss: 0.3665 - dense_7_loss: 0.3797 - dense_9_loss: 0.5338 - dense_1_accuracy: 0.9356 - dense_3_accuracy: 0.8608 - dense_5_accuracy: 0.8479 - dense_7_accuracy: 0.8582 - dense_9_accuracy: 0.7899 - val_loss: 2.2296 - val_dense_1_loss: 0.0289 - val_dense_3_loss: 0.2930 - val_dense_5_loss: 0.5826 - val_dense_7_loss: 0.7317 - val_dense_9_loss: 0.5935 - val_dense_1_accuracy: 0.9948 - val_dense_3_accuracy: 0.9330 - val_dense_5_accuracy: 0.8608 - val_dense_7_accuracy: 0.8351 - val_dense_9_accuracy: 0.8041\n",
            "Epoch 50/60\n",
            "25/25 [==============================] - 7s 267ms/step - loss: 1.6889 - dense_1_loss: 0.1593 - dense_3_loss: 0.3098 - dense_5_loss: 0.3630 - dense_7_loss: 0.3335 - dense_9_loss: 0.5233 - dense_1_accuracy: 0.9407 - dense_3_accuracy: 0.8814 - dense_5_accuracy: 0.8557 - dense_7_accuracy: 0.8776 - dense_9_accuracy: 0.7887 - val_loss: 2.3100 - val_dense_1_loss: 0.0151 - val_dense_3_loss: 0.3738 - val_dense_5_loss: 0.5662 - val_dense_7_loss: 0.7867 - val_dense_9_loss: 0.5681 - val_dense_1_accuracy: 0.9948 - val_dense_3_accuracy: 0.9278 - val_dense_5_accuracy: 0.8608 - val_dense_7_accuracy: 0.8454 - val_dense_9_accuracy: 0.8505\n",
            "Epoch 51/60\n",
            "25/25 [==============================] - 9s 368ms/step - loss: 1.6836 - dense_1_loss: 0.1422 - dense_3_loss: 0.3089 - dense_5_loss: 0.3170 - dense_7_loss: 0.3673 - dense_9_loss: 0.5482 - dense_1_accuracy: 0.9356 - dense_3_accuracy: 0.8866 - dense_5_accuracy: 0.8814 - dense_7_accuracy: 0.8582 - dense_9_accuracy: 0.7796 - val_loss: 2.1215 - val_dense_1_loss: 0.0293 - val_dense_3_loss: 0.3301 - val_dense_5_loss: 0.4606 - val_dense_7_loss: 0.7601 - val_dense_9_loss: 0.5414 - val_dense_1_accuracy: 0.9948 - val_dense_3_accuracy: 0.9227 - val_dense_5_accuracy: 0.8814 - val_dense_7_accuracy: 0.8351 - val_dense_9_accuracy: 0.8505\n",
            "Epoch 52/60\n",
            "25/25 [==============================] - 7s 271ms/step - loss: 1.5280 - dense_1_loss: 0.1426 - dense_3_loss: 0.2592 - dense_5_loss: 0.3073 - dense_7_loss: 0.3622 - dense_9_loss: 0.4566 - dense_1_accuracy: 0.9523 - dense_3_accuracy: 0.8995 - dense_5_accuracy: 0.8802 - dense_7_accuracy: 0.8634 - dense_9_accuracy: 0.8209 - val_loss: 2.3865 - val_dense_1_loss: 0.0124 - val_dense_3_loss: 0.3670 - val_dense_5_loss: 0.5688 - val_dense_7_loss: 0.8679 - val_dense_9_loss: 0.5704 - val_dense_1_accuracy: 0.9948 - val_dense_3_accuracy: 0.9278 - val_dense_5_accuracy: 0.8608 - val_dense_7_accuracy: 0.8247 - val_dense_9_accuracy: 0.8454\n",
            "Epoch 53/60\n",
            "25/25 [==============================] - 9s 355ms/step - loss: 1.6466 - dense_1_loss: 0.1399 - dense_3_loss: 0.2740 - dense_5_loss: 0.3376 - dense_7_loss: 0.3749 - dense_9_loss: 0.5202 - dense_1_accuracy: 0.9394 - dense_3_accuracy: 0.8956 - dense_5_accuracy: 0.8776 - dense_7_accuracy: 0.8570 - dense_9_accuracy: 0.7990 - val_loss: 2.0385 - val_dense_1_loss: 0.0270 - val_dense_3_loss: 0.2709 - val_dense_5_loss: 0.4304 - val_dense_7_loss: 0.7084 - val_dense_9_loss: 0.6019 - val_dense_1_accuracy: 0.9948 - val_dense_3_accuracy: 0.9330 - val_dense_5_accuracy: 0.9072 - val_dense_7_accuracy: 0.8454 - val_dense_9_accuracy: 0.8505\n",
            "Epoch 54/60\n",
            "25/25 [==============================] - 7s 261ms/step - loss: 1.5874 - dense_1_loss: 0.1289 - dense_3_loss: 0.2495 - dense_5_loss: 0.3221 - dense_7_loss: 0.3348 - dense_9_loss: 0.5521 - dense_1_accuracy: 0.9485 - dense_3_accuracy: 0.9059 - dense_5_accuracy: 0.8763 - dense_7_accuracy: 0.8763 - dense_9_accuracy: 0.7796 - val_loss: 1.9870 - val_dense_1_loss: 0.0263 - val_dense_3_loss: 0.2912 - val_dense_5_loss: 0.4778 - val_dense_7_loss: 0.7150 - val_dense_9_loss: 0.4766 - val_dense_1_accuracy: 0.9948 - val_dense_3_accuracy: 0.9227 - val_dense_5_accuracy: 0.8918 - val_dense_7_accuracy: 0.8711 - val_dense_9_accuracy: 0.8557\n",
            "Epoch 55/60\n",
            "25/25 [==============================] - 8s 339ms/step - loss: 1.3882 - dense_1_loss: 0.1280 - dense_3_loss: 0.2233 - dense_5_loss: 0.3262 - dense_7_loss: 0.2953 - dense_9_loss: 0.4153 - dense_1_accuracy: 0.9549 - dense_3_accuracy: 0.9137 - dense_5_accuracy: 0.8814 - dense_7_accuracy: 0.8892 - dense_9_accuracy: 0.8389 - val_loss: 2.2472 - val_dense_1_loss: 0.0360 - val_dense_3_loss: 0.3467 - val_dense_5_loss: 0.4801 - val_dense_7_loss: 0.8201 - val_dense_9_loss: 0.5644 - val_dense_1_accuracy: 0.9897 - val_dense_3_accuracy: 0.9278 - val_dense_5_accuracy: 0.8866 - val_dense_7_accuracy: 0.8505 - val_dense_9_accuracy: 0.8505\n",
            "Epoch 56/60\n",
            "25/25 [==============================] - 6s 260ms/step - loss: 1.4881 - dense_1_loss: 0.1052 - dense_3_loss: 0.2426 - dense_5_loss: 0.3197 - dense_7_loss: 0.3056 - dense_9_loss: 0.5150 - dense_1_accuracy: 0.9639 - dense_3_accuracy: 0.9175 - dense_5_accuracy: 0.8814 - dense_7_accuracy: 0.8853 - dense_9_accuracy: 0.7848 - val_loss: 2.1032 - val_dense_1_loss: 0.0333 - val_dense_3_loss: 0.2958 - val_dense_5_loss: 0.4255 - val_dense_7_loss: 0.7831 - val_dense_9_loss: 0.5656 - val_dense_1_accuracy: 0.9897 - val_dense_3_accuracy: 0.9485 - val_dense_5_accuracy: 0.8918 - val_dense_7_accuracy: 0.8660 - val_dense_9_accuracy: 0.8660\n",
            "Epoch 57/60\n",
            "25/25 [==============================] - 9s 374ms/step - loss: 1.4637 - dense_1_loss: 0.1449 - dense_3_loss: 0.2771 - dense_5_loss: 0.3311 - dense_7_loss: 0.2720 - dense_9_loss: 0.4387 - dense_1_accuracy: 0.9549 - dense_3_accuracy: 0.9021 - dense_5_accuracy: 0.8750 - dense_7_accuracy: 0.8969 - dense_9_accuracy: 0.8235 - val_loss: 2.2817 - val_dense_1_loss: 0.0186 - val_dense_3_loss: 0.3296 - val_dense_5_loss: 0.4184 - val_dense_7_loss: 0.8950 - val_dense_9_loss: 0.6200 - val_dense_1_accuracy: 0.9948 - val_dense_3_accuracy: 0.9330 - val_dense_5_accuracy: 0.8969 - val_dense_7_accuracy: 0.8660 - val_dense_9_accuracy: 0.8557\n",
            "Epoch 58/60\n",
            "25/25 [==============================] - 7s 265ms/step - loss: 1.4825 - dense_1_loss: 0.1113 - dense_3_loss: 0.2412 - dense_5_loss: 0.3441 - dense_7_loss: 0.3387 - dense_9_loss: 0.4473 - dense_1_accuracy: 0.9562 - dense_3_accuracy: 0.9021 - dense_5_accuracy: 0.8763 - dense_7_accuracy: 0.8776 - dense_9_accuracy: 0.8131 - val_loss: 2.1434 - val_dense_1_loss: 0.0507 - val_dense_3_loss: 0.3385 - val_dense_5_loss: 0.4267 - val_dense_7_loss: 0.8027 - val_dense_9_loss: 0.5248 - val_dense_1_accuracy: 0.9845 - val_dense_3_accuracy: 0.9485 - val_dense_5_accuracy: 0.9021 - val_dense_7_accuracy: 0.8505 - val_dense_9_accuracy: 0.8866\n",
            "Epoch 59/60\n",
            "25/25 [==============================] - 10s 400ms/step - loss: 1.3812 - dense_1_loss: 0.1075 - dense_3_loss: 0.2050 - dense_5_loss: 0.3026 - dense_7_loss: 0.2896 - dense_9_loss: 0.4766 - dense_1_accuracy: 0.9665 - dense_3_accuracy: 0.9253 - dense_5_accuracy: 0.8814 - dense_7_accuracy: 0.8905 - dense_9_accuracy: 0.8106 - val_loss: 2.3095 - val_dense_1_loss: 0.0157 - val_dense_3_loss: 0.3828 - val_dense_5_loss: 0.4760 - val_dense_7_loss: 0.8019 - val_dense_9_loss: 0.6330 - val_dense_1_accuracy: 0.9845 - val_dense_3_accuracy: 0.9227 - val_dense_5_accuracy: 0.9021 - val_dense_7_accuracy: 0.8608 - val_dense_9_accuracy: 0.8608\n",
            "Epoch 60/60\n",
            "25/25 [==============================] - 8s 310ms/step - loss: 1.3885 - dense_1_loss: 0.0969 - dense_3_loss: 0.2616 - dense_5_loss: 0.3120 - dense_7_loss: 0.2733 - dense_9_loss: 0.4447 - dense_1_accuracy: 0.9639 - dense_3_accuracy: 0.9059 - dense_5_accuracy: 0.8943 - dense_7_accuracy: 0.8879 - dense_9_accuracy: 0.8209 - val_loss: 2.1251 - val_dense_1_loss: 0.0474 - val_dense_3_loss: 0.3454 - val_dense_5_loss: 0.4452 - val_dense_7_loss: 0.7586 - val_dense_9_loss: 0.5285 - val_dense_1_accuracy: 0.9897 - val_dense_3_accuracy: 0.9433 - val_dense_5_accuracy: 0.9072 - val_dense_7_accuracy: 0.8711 - val_dense_9_accuracy: 0.8660\n"
          ]
        }
      ]
    },
    {
      "cell_type": "code",
      "source": [],
      "metadata": {
        "id": "CDPOfgVl6NZn"
      },
      "execution_count": 19,
      "outputs": []
    },
    {
      "cell_type": "markdown",
      "source": [
        "### Saving the Model for furthur use"
      ],
      "metadata": {
        "id": "C7uHOCeGltTM"
      }
    },
    {
      "cell_type": "code",
      "source": [
        "# Define the save path\n",
        "save_path = '/content/drive/MyDrive/OCR_model/captcha_model_v2.keras'\n",
        "# Save the model\n",
        "model.save(save_path)\n"
      ],
      "metadata": {
        "id": "3j_AdiLy8K3M"
      },
      "execution_count": 20,
      "outputs": []
    },
    {
      "cell_type": "markdown",
      "source": [
        "## Evaluating Model on Training data"
      ],
      "metadata": {
        "id": "NLDOnUej8uZW"
      }
    },
    {
      "cell_type": "code",
      "source": [
        "#Loss on training set\n",
        "#Finding Loss on training set\n",
        "preds = model.evaluate(X_train, [y_train[0], y_train[1], y_train[2], y_train[3], y_train[4]])\n",
        "print (\"Loss on training set= \" + str(preds[0]))"
      ],
      "metadata": {
        "colab": {
          "base_uri": "https://localhost:8080/"
        },
        "id": "WdPBFKJJ8Ud7",
        "outputId": "60843a87-0eef-471f-df93-0fedd647c1db"
      },
      "execution_count": 18,
      "outputs": [
        {
          "output_type": "stream",
          "name": "stdout",
          "text": [
            "31/31 [==============================] - 2s 65ms/step - loss: 0.4404 - dense_1_loss: 0.0096 - dense_3_loss: 0.0703 - dense_5_loss: 0.0926 - dense_7_loss: 0.1528 - dense_9_loss: 0.1152 - dense_1_accuracy: 0.9979 - dense_3_accuracy: 0.9887 - dense_5_accuracy: 0.9814 - dense_7_accuracy: 0.9742 - dense_9_accuracy: 0.9722\n",
            "Loss on training set= 0.44039222598075867\n"
          ]
        }
      ]
    },
    {
      "cell_type": "markdown",
      "source": [
        "## Evaluating Model on Testing data"
      ],
      "metadata": {
        "id": "R9YtjQRk84Hk"
      }
    },
    {
      "cell_type": "code",
      "source": [
        "#Finding loss on test set\n",
        "preds = model.evaluate(X_test, [y_test[0], y_test[1], y_test[2], y_test[3], y_test[4]])\n",
        "print (\"Loss on testing set= \" + str(preds[0]))"
      ],
      "metadata": {
        "colab": {
          "base_uri": "https://localhost:8080/"
        },
        "id": "GOkAr8jv8zkF",
        "outputId": "d807b1e4-5e3a-459b-b397-fa835ba9dd44"
      },
      "execution_count": 19,
      "outputs": [
        {
          "output_type": "stream",
          "name": "stdout",
          "text": [
            "4/4 [==============================] - 0s 49ms/step - loss: 1.7590 - dense_1_loss: 0.0089 - dense_3_loss: 0.2264 - dense_5_loss: 0.3160 - dense_7_loss: 0.7913 - dense_9_loss: 0.4163 - dense_1_accuracy: 0.9900 - dense_3_accuracy: 0.9600 - dense_5_accuracy: 0.9200 - dense_7_accuracy: 0.8600 - dense_9_accuracy: 0.8900\n",
            "Loss on testing set= 1.7589656114578247\n"
          ]
        }
      ]
    },
    {
      "cell_type": "markdown",
      "source": [
        "## Our Model works well on Training and Testing data"
      ],
      "metadata": {
        "id": "7c87DtJk9ap4"
      }
    },
    {
      "cell_type": "markdown",
      "source": [
        "# The END"
      ],
      "metadata": {
        "id": "fv6-bhIRM2Aq"
      }
    }
  ]
}